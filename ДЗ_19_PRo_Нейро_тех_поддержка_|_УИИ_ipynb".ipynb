{
  "nbformat": 4,
  "nbformat_minor": 0,
  "metadata": {
    "colab": {
      "provenance": [],
      "toc_visible": true,
      "include_colab_link": true
    },
    "kernelspec": {
      "name": "python3",
      "display_name": "Python 3"
    },
    "language_info": {
      "name": "python"
    }
  },
  "cells": [
    {
      "cell_type": "markdown",
      "metadata": {
        "id": "view-in-github",
        "colab_type": "text"
      },
      "source": [
        "<a href=\"https://colab.research.google.com/github/Igor-gmc/weather_forecast_colab/blob/main/%D0%94%D0%97_19_PRo_%D0%9D%D0%B5%D0%B9%D1%80%D0%BE_%D1%82%D0%B5%D1%85_%D0%BF%D0%BE%D0%B4%D0%B4%D0%B5%D1%80%D0%B6%D0%BA%D0%B0_%7C_%D0%A3%D0%98%D0%98_ipynb%22.ipynb\" target=\"_parent\"><img src=\"https://colab.research.google.com/assets/colab-badge.svg\" alt=\"Open In Colab\"/></a>"
      ]
    },
    {
      "cell_type": "markdown",
      "source": [
        "### Задание:\n",
        "### Возьмите любое публичное API и покажите взаимодействие пользователя для получения информации через API, с использованием OpenAI.\n",
        "\n",
        "### Можете использовать публичное API для получения прогноза погоды: https://openweathermap.org/forecast5 (прогноз на 5 дней с интервалом 3 часа)\n",
        "### Для этого зарегистрируйтесь и получите ключ здесь: https://home.openweathermap.org/users/sign_up\n",
        "\n",
        "### Условие: Пользователь задает вопрос через модель OpenAI одним запросом с указанием всей интересующей его информации. Информация для ответа должна быть получена через API.\n",
        "Наример, если текущая дата 2024-08-21 14:00, вопрос: Дай прогноз погоды в Москве на послезавтра вечером.\n",
        "### Возможный формат ответа от OpenAI:\n",
        "Город: Москва  \n",
        "Прогноз на 2024-08-23 18:00:00  \n",
        "Температура: 22.73 C° пасмурно  \n",
        "Влажность: 66 %  \n",
        "Давление: 1016 мм.рт.ст.  \n",
        "Ветер: 4.1 м/с\n"
      ],
      "metadata": {
        "id": "Q0ayExEFjD_L"
      }
    },
    {
      "cell_type": "markdown",
      "source": [
        "### Код"
      ],
      "metadata": {
        "id": "wBqdE7jPstkG"
      }
    },
    {
      "cell_type": "code",
      "execution_count": null,
      "metadata": {
        "id": "SjieFaDfhrvH"
      },
      "outputs": [],
      "source": [
        "#@title Библиотеки, переменные, базовые функции\n",
        "\n",
        "!pip install -q openai==1.59.9\n",
        "\n",
        "import requests\n",
        "from datetime import datetime, timedelta\n",
        "from google.colab import userdata\n",
        "import openai\n",
        "import json\n",
        "import re\n",
        "import os\n",
        "\n",
        "# Ключ OpenAI\n",
        "os.environ[\"OPENAI_API_KEY\"] = userdata.get(\"OPENAI_API_KEY\")\n",
        "\n",
        "# Создайте бесплатный api ключ для доступа к прогнозам погоды:\n",
        "# https://home.openweathermap.org/users/sign_up\n",
        "# https://home.openweathermap.org/api_keys\n",
        "api_key = '' # Здесь нужно вставить ваш api ключ\n",
        "\n",
        "\n",
        "# Функция прогноза погоды в городе на 5 дней вперед с интервалом 3 часа\n",
        "# https://openweathermap.org/forecast5\n",
        "def get_weather_forecast(city: str, api_key=api_key):\n",
        "    # city: str - город на русском\n",
        "    # api_key: str - ключ https://home.openweathermap.org/api_keys\n",
        "    url = 'http://api.openweathermap.org/data/2.5/forecast'\n",
        "    params = {'lang': 'ru', 'q': city, 'units': 'metric', 'appid': api_key}\n",
        "    forecasts = []\n",
        "    try:\n",
        "        r = requests.get(url=url, params=params)\n",
        "        for item in r.json()['list']:\n",
        "            day_time = ''\n",
        "            time_forecast = datetime.fromtimestamp(item['dt']) + timedelta(hours=3) # UTC + 3 часа\n",
        "            day_time += f\"Прогноз на {time_forecast}\\n\"\n",
        "            day_time += f\"Температура: {item['main']['temp']} C° {item['weather'][0]['description']}\\n\"\n",
        "            day_time += f\"Влажность: {item['main']['humidity']} %\\n\"\n",
        "            day_time += f\"Давление: {item['main']['pressure']} мм.рт.ст.\\n\"\n",
        "            day_time += f\"Ветер: {item['wind']['gust']} м/с\\n\"\n",
        "            forecasts.append(day_time)\n",
        "        return forecasts # список прогнозов на пять дней вперед с интервалом в три часа\n",
        "    except Exception as ex:\n",
        "        print(ex)"
      ]
    },
    {
      "cell_type": "code",
      "source": [
        "#@title Решение\n"
      ],
      "metadata": {
        "id": "QtdRz24WWjZW"
      },
      "execution_count": null,
      "outputs": []
    },
    {
      "cell_type": "markdown",
      "source": [
        "## Возможные варианты вопросов и ответов"
      ],
      "metadata": {
        "id": "rhm_elfWfRYv"
      }
    },
    {
      "cell_type": "code",
      "source": [
        "# Текущая дата и время\n",
        "# datetime.now() на сервере Colab - это UTC\n",
        "print('Текущая дата и время:', (datetime.now() + timedelta(hours=3)).strftime(\"%Y-%m-%d %H:%M\"))"
      ],
      "metadata": {
        "colab": {
          "base_uri": "https://localhost:8080/"
        },
        "id": "Z_z92pgXl4o_",
        "outputId": "3c280df1-27a9-4f31-c00d-2daa49fcd6f6"
      },
      "execution_count": null,
      "outputs": [
        {
          "output_type": "stream",
          "name": "stdout",
          "text": [
            "Текущая дата и время: 2025-01-31 11:26\n"
          ]
        }
      ]
    },
    {
      "cell_type": "code",
      "source": [
        "print(forecast('Дай прогноз погоды в Москве на послезавтра вечером'))"
      ],
      "metadata": {
        "colab": {
          "base_uri": "https://localhost:8080/"
        },
        "id": "EnvMrdJ3l_YU",
        "outputId": "20d9f763-57c4-43a2-abaa-e59f5ced36f2"
      },
      "execution_count": null,
      "outputs": [
        {
          "output_type": "stream",
          "name": "stdout",
          "text": [
            "Город: Москва  \n",
            "Прогноз погоды: Прогноз на 2025-02-02 18:00:00  \n",
            "Температура: 0.13 C° пасмурно  \n",
            "Влажность: 72 %  \n",
            "Давление: 1014 мм.рт.ст.  \n",
            "Ветер: 8.86 м/с  \n"
          ]
        }
      ]
    },
    {
      "cell_type": "code",
      "source": [
        "print(forecast('Дай прогноз погоды в Барселоне через 3 дня днем'))"
      ],
      "metadata": {
        "colab": {
          "base_uri": "https://localhost:8080/"
        },
        "id": "c-grGmDWcFHn",
        "outputId": "6f88d155-2ac8-468b-e323-ac707f2ba081"
      },
      "execution_count": null,
      "outputs": [
        {
          "output_type": "stream",
          "name": "stdout",
          "text": [
            "Город: Барселона  \n",
            "Прогноз на 2025-02-03 12:00:00  \n",
            "Температура: 9.93 C° ясно  \n",
            "Влажность: 52 %  \n",
            "Давление: 1024 мм.рт.ст.  \n",
            "Ветер: 3.02 м/с  \n"
          ]
        }
      ]
    },
    {
      "cell_type": "code",
      "source": [
        "print(forecast('Дай прогноз погоды в Париже через 4 дня вечером'))"
      ],
      "metadata": {
        "colab": {
          "base_uri": "https://localhost:8080/"
        },
        "id": "bfQZhFrbi20Q",
        "outputId": "39ce62f1-3c04-43bc-9a01-df9f2ddeda28"
      },
      "execution_count": null,
      "outputs": [
        {
          "output_type": "stream",
          "name": "stdout",
          "text": [
            "Город: Париж  \n",
            "Прогноз: Прогноз на 2025-02-04 18:00:00  \n",
            "Температура: 9.56 C° ясно  \n",
            "Влажность: 54 %  \n",
            "Давление: 1029 мм.рт.ст.  \n",
            "Ветер: 2.85 м/с  \n"
          ]
        }
      ]
    }
  ]
}